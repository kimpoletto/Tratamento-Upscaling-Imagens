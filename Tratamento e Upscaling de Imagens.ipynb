{
 "cells": [
  {
   "cell_type": "code",
   "execution_count": 12,
   "id": "86749ebf",
   "metadata": {},
   "outputs": [],
   "source": [
    "from PIL import Image, ImageEnhance, ImageFilter\n",
    "\n",
    "def improve_image(input_path, output_path, scale_factor):\n",
    "    # Carrega a imagem de entrada\n",
    "    image = Image.open(input_path)\n",
    "\n",
    "    # Calcula a nova largura e altura\n",
    "    width = round(image.width * scale_factor)\n",
    "    height = round(image.height * scale_factor)\n",
    "\n",
    "    # Aplica o upscaling utilizando o método 'BICUBIC'\n",
    "    image = image.resize((width, height), Image.BICUBIC)\n",
    "\n",
    "    # Ajusta o brilho da imagem\n",
    "    enhancer = ImageEnhance.Brightness(image)\n",
    "    image = enhancer.enhance(1)  # Regula o BRILHO\n",
    "\n",
    "    # Ajusta o contraste da imagem\n",
    "    enhancer = ImageEnhance.Contrast(image)\n",
    "    image = enhancer.enhance(1.2)  # Regula o CONTRASTE\n",
    "\n",
    "    # Aplica nitidez na imagem\n",
    "    image = image.filter(ImageFilter.SHARPEN)\n",
    "\n",
    "    # Reduz o ruído na imagem\n",
    "    image = image.filter(ImageFilter.MedianFilter(size=3))\n",
    "\n",
    "    # Salva a imagem tratada\n",
    "    image.save(output_path)\n"
   ]
  },
  {
   "cell_type": "code",
   "execution_count": 14,
   "id": "d3072a18",
   "metadata": {},
   "outputs": [],
   "source": [
    "# Aplicando a função de melhoramento\n",
    "input_image_path = r\"C:\\Users\\kimge\\OneDrive\\Alecrim\\Fotos\\IMAGENS MIDJOURNEY\\kimpoletto_Carna.png\"\n",
    "output_image_path = r\"C:\\Users\\kimge\\OneDrive\\Alecrim\\Fotos\\IMAGENS MIDJOURNEY\\kimpoletto_Carna_tratada.png\"\n",
    "scale_factor = 4.1  # Define o fator de escala desejado\n",
    "\n",
    "improve_image(input_image_path, output_image_path, scale_factor)\n"
   ]
  },
  {
   "cell_type": "code",
   "execution_count": 9,
   "id": "eeee4e0b",
   "metadata": {},
   "outputs": [],
   "source": []
  },
  {
   "cell_type": "code",
   "execution_count": null,
   "id": "ac6b7872",
   "metadata": {},
   "outputs": [],
   "source": []
  }
 ],
 "metadata": {
  "kernelspec": {
   "display_name": "Python 3",
   "language": "python",
   "name": "python3"
  },
  "language_info": {
   "codemirror_mode": {
    "name": "ipython",
    "version": 3
   },
   "file_extension": ".py",
   "mimetype": "text/x-python",
   "name": "python",
   "nbconvert_exporter": "python",
   "pygments_lexer": "ipython3",
   "version": "3.8.8"
  }
 },
 "nbformat": 4,
 "nbformat_minor": 5
}
